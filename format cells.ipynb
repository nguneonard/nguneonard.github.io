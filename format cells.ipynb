{
 "cells": [
  {
   "cell_type": "markdown",
   "metadata": {},
   "source": [
    "# &nbsp;\n",
    "<font size=\"6\" color=\"#B24C00\"  face=\"verdana\"> <B>Task 1</B></font>\n",
    "\n",
    "## Methods for running the code in a cell\n",
    "1. **Click in the cell below** and **press \"Ctrl+Enter\"** to run the code  \n",
    "&nbsp; &nbsp; or\n",
    "2. **Click in the cell below** and **press \"Shift+Enter\"** to run the code and move to the next cell  \n",
    "&nbsp;\n",
    "3. **Menu: Cell**...  \n",
    "  a. **> Run Cells** runs the highlighted cell(s)  \n",
    "  b. **> Run All Above** runs the highlighted cell and above  \n",
    "  c. **> Run All Below** runs the highlighted cell and below \n",
    "  \n",
    "### Numeric addition\n",
    "**Numeric addition** Single line *math equations*, run in a code cell, will output a sum \n",
    "```python\n",
    "# adding a pair of single digit Integers\n",
    "3 + 5  \n",
    "```  \n",
    "## String addition\n",
    "**string addition** single line *equations*, run in a code cell, will output a single concatenated string  \n",
    "> **Tip:** all strings must be in quotes  \n",
    "    \n",
    "```python\n",
    "# adding a pair of strings\n",
    "\"I wear \" + \"a hat\"  \n",
    "```  \n",
    "We can also **add variables** as long as we add strings to strings and numbers to numbers\n",
    "\n",
    "><font size=\"5\" color=\"#00A0B2\"  face=\"verdana\"> <B>Student will be able to</B></font>\n",
    "- **use Python 3 in Jupyter notebooks**  \n",
    "- **write working code using `print()` and `#` comments**  \n",
    "- combine Strings using string addition (`+`)\n",
    "- add numbers in code (`+`) \n",
    "\n",
    "#### TypeError\n",
    "The line&nbsp; **`print(\"my number is \" + 123)`** causes the **`TypeError`** message to appear  \n",
    ">`TypeError: Can't convert 'int' object to str implicitly`  \n",
    "\n",
    "When adding to the string&nbsp; `\"my number is \"`&nbsp; the compiler is experiencing another string, but finds a number ***`123`**  \n",
    "\n",
    "Python cannot convert the Integer &nbsp; `123`&nbsp; to a string without explicit instruction (in code) \n",
    "  \n",
    "in other words, python only allows combining *like types*\n",
    "- **`str`** + **`str`**\n",
    "- **`int`** + **`int`**\n",
    "\n",
    "- **[ ]** create variables to store input: **name**, **age**, **get_mail**\n",
    "- **[ ]** create prompts for name, age and yes/no to being on an email list\n",
    "- **[ ]** print description + input values   \n",
    "\n",
    ">example print output:  \n",
    "`name = Alton`  \n",
    "`age =  17`  \n",
    "`wants email = yes`  \n",
    "  \n",
    "**tip**: with multiple input statements, after each prompt, **click 'in' the input box** to continue entering input"
   ]
  },
  {
   "cell_type": "code",
   "execution_count": null,
   "metadata": {},
   "outputs": [],
   "source": []
  },
  {
   "cell_type": "markdown",
   "metadata": {},
   "source": [
    "####   Drawing Table in jupyter\n",
    "|Condition A|Condition B|Condition A and Condition B|Condition A or Condition B|\n",
    "|:---------:|:---------:|:-------------------------:|:------------------------:|\n",
    "|True|True|True|True|\n",
    "|True|False|False|True|\n",
    "|False|True|False|True|\n",
    "|False|False|False|False|"
   ]
  },
  {
   "cell_type": "code",
   "execution_count": null,
   "metadata": {},
   "outputs": [],
   "source": []
  }
 ],
 "metadata": {
  "kernelspec": {
   "display_name": "Python 3",
   "language": "python",
   "name": "python3"
  },
  "language_info": {
   "codemirror_mode": {
    "name": "ipython",
    "version": 3
   },
   "file_extension": ".py",
   "mimetype": "text/x-python",
   "name": "python",
   "nbconvert_exporter": "python",
   "pygments_lexer": "ipython3",
   "version": "3.7.3"
  }
 },
 "nbformat": 4,
 "nbformat_minor": 2
}
